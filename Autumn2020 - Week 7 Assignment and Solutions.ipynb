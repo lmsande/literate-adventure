{
 "cells": [
  {
   "cell_type": "markdown",
   "metadata": {},
   "source": [
    "## MSCA 37010  Programming for Analytics\n",
    "### Week 7 Assignment (100 Points + 10 Bonus Points)\n",
    "#### Due Date: 11/20/2020"
   ]
  },
  {
   "cell_type": "markdown",
   "metadata": {},
   "source": [
    "#### Question 1. Create a function fahr_to_celsius that converts temperatures from Fahrenheit to Celsius? (5 points)"
   ]
  },
  {
   "cell_type": "code",
   "execution_count": null,
   "metadata": {},
   "outputs": [],
   "source": [
    "# Solution:\n",
    "def fahr_to_celsius(fahr):\n",
    "    cel=(fahr-32)*5/9\n",
    "    print(cel)\n",
    "fahr_to_celsius(100)"
   ]
  },
  {
   "cell_type": "markdown",
   "metadata": {},
   "source": [
    "#### Question 2. Create a function to calculate a sum of x and y (5 points)"
   ]
  },
  {
   "cell_type": "code",
   "execution_count": null,
   "metadata": {},
   "outputs": [],
   "source": [
    "# Solution:\n",
    "f1 = lambda x,y: x+y\n",
    "f1(2,3)"
   ]
  },
  {
   "cell_type": "code",
   "execution_count": null,
   "metadata": {},
   "outputs": [],
   "source": [
    "# Solution:\n",
    "def sum(x,y):\n",
    "    total=x+y\n",
    "    print(total)\n",
    "sum(1,2)"
   ]
  },
  {
   "cell_type": "markdown",
   "metadata": {},
   "source": [
    "#### Question 3. Create a function to calculate sqrt(x)*log(y) (5 point)"
   ]
  },
  {
   "cell_type": "code",
   "execution_count": null,
   "metadata": {},
   "outputs": [],
   "source": [
    "import math"
   ]
  },
  {
   "cell_type": "code",
   "execution_count": null,
   "metadata": {},
   "outputs": [],
   "source": [
    "# Solution:\n",
    "def f2(x,y):\n",
    "    return math.sqrt(x)*math.log(y)\n",
    "f2(1,10)"
   ]
  },
  {
   "cell_type": "code",
   "execution_count": null,
   "metadata": {},
   "outputs": [],
   "source": [
    "# Solution:\n",
    "def cal(x,y):\n",
    "    result=x**(1/2)*math.log(y)\n",
    "    print(result)\n",
    "cal(1,2)"
   ]
  },
  {
   "cell_type": "markdown",
   "metadata": {},
   "source": [
    "#### Question 4. Create a function to calculate a*b+log(a); use it to get the values of calc(3,4) and calc(5,6) (5 points)"
   ]
  },
  {
   "cell_type": "code",
   "execution_count": 2,
   "metadata": {},
   "outputs": [
    {
     "data": {
      "text/plain": [
       "13.09861228866811"
      ]
     },
     "execution_count": 2,
     "metadata": {},
     "output_type": "execute_result"
    }
   ],
   "source": [
    "# Solution:\n",
    "import math\n",
    "def calc(a,b):\n",
    "    return a*b+math.log(a)\n",
    "calc(3,4)"
   ]
  },
  {
   "cell_type": "code",
   "execution_count": 3,
   "metadata": {},
   "outputs": [
    {
     "name": "stdout",
     "output_type": "stream",
     "text": [
      "13.09861228866811\n"
     ]
    }
   ],
   "source": [
    "# Solution:\n",
    "def cal2(a,b):\n",
    "    print(a*b+math.log(a))\n",
    "cal2(3,4)"
   ]
  },
  {
   "cell_type": "markdown",
   "metadata": {},
   "source": [
    "#### Question 5. Write a if-statement to create a function to calculate numeric Final Grade and Assign a letter grade based on the final grade: (10 points)\n",
    "\n",
    "```markdown\n",
    "Final Grade = 80% Assignments + 10% Quizzes + 10% Class Participation\n",
    "A = 93%–100% A- = 90%–92% \n",
    "B+ = 87%–89% B = 83%–86% B- = 80%–82% \n",
    "C+ = 77%–79% C = 73%–76% C- = 70%–72% \n",
    "D = 60%–69%\n",
    "F = 0% - 59%\n",
    "```"
   ]
  },
  {
   "cell_type": "code",
   "execution_count": null,
   "metadata": {},
   "outputs": [],
   "source": [
    "# Solution:\n",
    "def grade(assignments, quizzes, participation):\n",
    "    fg = (0.8*assignments) + (0.1*quizzes) + (0.1*participation) \n",
    "    if fg >= 93.0:\n",
    "        print(\"A\") \n",
    "    elif fg >= 90.0 and fg < 93.0:\n",
    "        print(\"A-\")\n",
    "    elif fg >= 87.0 and fg < 90.0:\n",
    "        print(\"B+\") \n",
    "    elif fg >= 83.0 and fg < 87.0:\n",
    "        print(\"B\") \n",
    "    elif fg >= 80.0 and fg < 83.0:\n",
    "        print(\"B-\")\n",
    "    elif fg >= 77.0 and fg < 80.0:\n",
    "        print(\"C+\")\n",
    "    elif fg >= 73.0 and fg < 77.0:\n",
    "        print(\"C\")\n",
    "    elif fg >= 70.0 and fg < 73.0:\n",
    "        print(\"C-\")\n",
    "    elif fg >= 60.0 and fg < 70.0:\n",
    "        print(\"D\")\n",
    "    else: print(\"F\")\n",
    "        \n",
    "grade(90, 50, 50)"
   ]
  },
  {
   "cell_type": "code",
   "execution_count": null,
   "metadata": {},
   "outputs": [],
   "source": [
    "# Solution:\n",
    "def final(a,q,c):\n",
    "    \n",
    "    finalgrade=0.8*a+0.1*q+0.1*c\n",
    "    \n",
    "    if finalgrade>=93:\n",
    "        lettergrade=\"A\"\n",
    "    elif finalgrade<93 and finalgrade>=90:\n",
    "        lettergrade=\"A-\"\n",
    "    elif finalgrade<89 and finalgrade>=87:\n",
    "        lettergrade=\"B+\"\n",
    "    elif finalgrade<87 and finalgrade>=83:\n",
    "        lettergrade=\"B\"\n",
    "    elif finalgrade<83 and finalgrade>=80:\n",
    "        lettergrade=\"B-\"\n",
    "    elif finalgrade<80 and finalgrade>=77:\n",
    "        lettergrade=\"C+\"\n",
    "    elif finalgrade<77 and finalgrade>=73:\n",
    "        lettergrade=\"C\"\n",
    "    elif finalgrade<73 and finalgrade>=70:\n",
    "        lettergrade=\"C-\"\n",
    "    elif finalgrade<70 and finalgrade>=60:\n",
    "        lettergrade=\"D\"\n",
    "    else:\n",
    "        lettergrade=\"F\"\n",
    "        \n",
    "    print(finalgrade,lettergrade)\n",
    "\n",
    "final(80,90,100)"
   ]
  },
  {
   "cell_type": "code",
   "execution_count": null,
   "metadata": {},
   "outputs": [],
   "source": [
    "# Solution:\n",
    "GradeBook = {'A': (93, 100), 'A-': (90, 92), 'B+': (87, 89), 'B': (83, 86), \\\n",
    "             'B-': (80, 82), 'C+': (77, 79), 'C': (73, 76), 'C-': (70, 72), \\\n",
    "            'D': (60, 69), 'F': (0, 59)}\n",
    "\n",
    "def FinalGrade(assignment, quiz, participation):\n",
    "    NumericGrade = (80 * (assignment / 100)) + (10 * (quiz / 100)) + (10 * (participation / 100))\n",
    "    for key in GradeBook:\n",
    "        if GradeBook[key][0] <= NumericGrade <= GradeBook[key][1]:\n",
    "            print('Grade is', key)\n",
    "\n",
    "FinalGrade(90, 50, 50)"
   ]
  },
  {
   "cell_type": "markdown",
   "metadata": {},
   "source": [
    "#### Question 6. To be eligible to graduate from the college, students must have 120 credits and a GPA of at least 2.0. Write a If-statement and print 'You are eligible to graduate!' or 'You are eligible to graduate!' (10 points)"
   ]
  },
  {
   "cell_type": "code",
   "execution_count": null,
   "metadata": {},
   "outputs": [],
   "source": [
    "# Solution:\n",
    "def graduate(credits, gpa):\n",
    "    if credits>=120 and gpa>=2.0:\n",
    "        print (\"You are eligible to graduate!\")\n",
    "    else:\n",
    "        print (\"You are not eligible to graduate\")\n",
    "graduate(130, 3.9)"
   ]
  },
  {
   "cell_type": "code",
   "execution_count": null,
   "metadata": {},
   "outputs": [],
   "source": [
    "# Solution:\n",
    "credit=122\n",
    "GPA=3\n",
    "if credit>=120 & GPA>=2.0:\n",
    "    print(\"You are eligible to graduate!\")\n",
    "else:\n",
    "    print(\"You are not eligible to graduate!\")"
   ]
  },
  {
   "cell_type": "code",
   "execution_count": null,
   "metadata": {},
   "outputs": [],
   "source": [
    "# Solution:\n",
    "x=float(input('credits: '))\n",
    "y=float(input('GPA: '))\n",
    "\n",
    "if x>=120.0 and y>=2.0:\n",
    "    print('You are eligible to graduate!')\n",
    "else:\n",
    "    print('You are not eligible to graduate.')"
   ]
  },
  {
   "cell_type": "code",
   "execution_count": null,
   "metadata": {},
   "outputs": [],
   "source": [
    "# Solution:\n",
    "credits = float(input('What is your credit? '))\n",
    "GPA = float(input('What is your GPA? '))\n",
    "if credits >= 120 and GPA>=2:\n",
    "    print(\"You are eligible to graduate\")\n",
    "else:\n",
    "    print(\"You are not eligible to graduate\")"
   ]
  },
  {
   "cell_type": "markdown",
   "metadata": {},
   "source": [
    "#### Question 7. Write a for loop to iterate through range(55,60) and take square of each of the values, then print (5 points)"
   ]
  },
  {
   "cell_type": "code",
   "execution_count": null,
   "metadata": {},
   "outputs": [],
   "source": [
    "# Solution:\n",
    "for i in range(55,60):\n",
    "    print (\"square of \" + str(i) + \": \"+ str(i**2))"
   ]
  },
  {
   "cell_type": "markdown",
   "metadata": {},
   "source": [
    "#### Question 8. Iterate through all the numbers up until 30. Print ‘twos’ for every number that’s divisible by 2, print ‘threes’ for every number divisible by 3; print ‘both’ for every number divisible by 2 and by 3; If the number is not divisible either by 2 or 3, print 'none'. (10 points)\n"
   ]
  },
  {
   "cell_type": "code",
   "execution_count": null,
   "metadata": {
    "scrolled": false
   },
   "outputs": [],
   "source": [
    "# Solution:\n",
    "for i in range(1,31):\n",
    "    if i % 2 == 0 and i % 3 == 0:\n",
    "        print(str(i) + ': both')\n",
    "    elif i % 2 == 0:\n",
    "        print(str(i) + ': twos')\n",
    "    elif i % 3 == 0:\n",
    "        print(str(i) + ': threes')\n",
    "    else:\n",
    "        print(str(i) + ': none')"
   ]
  },
  {
   "cell_type": "code",
   "execution_count": null,
   "metadata": {},
   "outputs": [],
   "source": [
    "# Solution:\n",
    "for i in range(1,31,1):\n",
    "    if i%2==0 & i%3!=0:\n",
    "        print(str(i) + \": twos\")\n",
    "    elif i%3==0 and i%2!=0:\n",
    "        print(str(i) + \": threes\")\n",
    "    elif i%3==0 and i%2==0:\n",
    "        print(str(i) + \": both\")\n",
    "    else:\n",
    "        print(str(i) + \": none\")"
   ]
  },
  {
   "cell_type": "markdown",
   "metadata": {},
   "source": [
    "#### Question 9. Import a right module and use A = [0, 0, 1, 1, 3, 14, 92, 75] to calcualte mean, median, mode, variance, std (10 points)"
   ]
  },
  {
   "cell_type": "code",
   "execution_count": null,
   "metadata": {},
   "outputs": [],
   "source": [
    "import statistics\n",
    "from scipy import stats\n",
    "A = [0, 0, 1, 1, 3, 14, 92, 75]"
   ]
  },
  {
   "cell_type": "code",
   "execution_count": null,
   "metadata": {},
   "outputs": [],
   "source": [
    "# Solution:\n",
    "print('mean: ' + str(statistics.mean(A)))\n",
    "print('median: ' + str(statistics.median(A)))\n",
    "# print('mode: ' + str(int(stats.mode(A)[0]))) #there are 2 modes, used the stats package from scipy to pick a mode\n",
    "print('variance: ' + str(statistics.variance(A)))\n",
    "print('standard deviation: ' + str(statistics.stdev(A)))"
   ]
  },
  {
   "cell_type": "code",
   "execution_count": null,
   "metadata": {},
   "outputs": [],
   "source": [
    "# Solution:\n",
    "A = [0, 0, 1, 1, 3, 14, 92, 75]\n",
    "import statistics as stat\n",
    "try:\n",
    "    print(stat.mode(A))\n",
    "except:\n",
    "    print('multi-modal')\n",
    "    \n",
    "print(stat.mean(A))\n",
    "print(stat.median(A))\n",
    "print(stat.stdev(A))"
   ]
  },
  {
   "cell_type": "code",
   "execution_count": null,
   "metadata": {},
   "outputs": [],
   "source": [
    "# Solution:\n",
    "import numpy as np\n",
    "import pandas as pd\n",
    "import statistics\n",
    "from scipy import stats\n",
    "\n",
    "\n",
    "A = [0, 0, 1, 1, 3, 14, 92, 75]\n",
    "print(A)\n",
    "\n",
    "median = np.median(A)\n",
    "print(median)\n",
    "mode = statistics.mode(A)\n",
    "print(mode)\n",
    "\n",
    "A = pd.Series(A)\n",
    "print(A.describe())"
   ]
  },
  {
   "cell_type": "code",
   "execution_count": 21,
   "metadata": {},
   "outputs": [
    {
     "name": "stdout",
     "output_type": "stream",
     "text": [
      "23.25\n",
      "2.0\n",
      "1246.4375\n",
      "35.304921753206024\n"
     ]
    }
   ],
   "source": [
    "# Solution:\n",
    "import numpy\n",
    "\n",
    "A = [0, 0, 1, 1, 3, 14, 92, 75]\n",
    "print(numpy.mean(A))\n",
    "print(numpy.median(A))\n",
    "print(numpy.var(A))\n",
    "print(numpy.std(A))"
   ]
  },
  {
   "cell_type": "markdown",
   "metadata": {},
   "source": [
    "#### Question 10. person97 = {\"name\":\"Jack\", \"surname\":\"Smith\", \"age\":\"29\"} (10 points)\n",
    "1) Remove pair \"name\":\"Jack\"\n",
    "\n",
    "2) Add new pair \"name\":\"Jack\"\n",
    "\n",
    "3) Change age from 29 to 30"
   ]
  },
  {
   "cell_type": "code",
   "execution_count": null,
   "metadata": {},
   "outputs": [],
   "source": [
    "# 1) Solution \n",
    "person97 = {\"name\":\"Jack\", \"surname\":\"Smith\", \"age\":\"29\"}\n",
    "print(person97)\n",
    "\n",
    "del(person97[\"name\"])\n",
    "print(person97)"
   ]
  },
  {
   "cell_type": "code",
   "execution_count": null,
   "metadata": {},
   "outputs": [],
   "source": [
    "# Or,\n",
    "person97 = {\"name\":\"Jack\", \"surname\":\"Smith\", \"age\":\"29\"}\n",
    "person97.pop(\"name\")\n",
    "person97"
   ]
  },
  {
   "cell_type": "code",
   "execution_count": null,
   "metadata": {},
   "outputs": [],
   "source": [
    "# 2) Solution\n",
    "person97[\"name\"] = \"Jack\"\n",
    "print(person97)"
   ]
  },
  {
   "cell_type": "code",
   "execution_count": null,
   "metadata": {},
   "outputs": [],
   "source": [
    "# 3) Solution\n",
    "person97[\"age\"] = \"30\"\n",
    "print(person97)"
   ]
  },
  {
   "cell_type": "markdown",
   "metadata": {},
   "source": [
    "#### Question 11. mylist = [\"Marry\", \"Jack\"] (5 points)\n",
    "1)    appends the string “John” to mylist\n",
    "\n",
    "2)    remove the string “John” from mylist"
   ]
  },
  {
   "cell_type": "code",
   "execution_count": null,
   "metadata": {},
   "outputs": [],
   "source": [
    "mylist = [\"Marry\", \"Jack\"]"
   ]
  },
  {
   "cell_type": "code",
   "execution_count": null,
   "metadata": {},
   "outputs": [],
   "source": [
    "# 1) Solution:\n",
    "mylist.append(\"John\")\n",
    "print(mylist)"
   ]
  },
  {
   "cell_type": "code",
   "execution_count": null,
   "metadata": {},
   "outputs": [],
   "source": [
    "# 2) Solution:\n",
    "mylist.remove(\"John\")\n",
    "print(mylist)"
   ]
  },
  {
   "cell_type": "markdown",
   "metadata": {},
   "source": [
    "#### Question 12. append the last item of list1 to list2 (5 points)\n",
    "list1 = [1.2323442655, 1.4534345567, 1.023458894]\n",
    "\n",
    "list2 = [1.9934332091]"
   ]
  },
  {
   "cell_type": "code",
   "execution_count": null,
   "metadata": {},
   "outputs": [],
   "source": [
    "list1 = [1.2323442655, 1.4534345567, 1.023458894]\n",
    "list2 = [1.9934332091]"
   ]
  },
  {
   "cell_type": "code",
   "execution_count": null,
   "metadata": {},
   "outputs": [],
   "source": [
    "# Solution:\n",
    "list2.append(list1[-1])\n",
    "print(list2)"
   ]
  },
  {
   "cell_type": "markdown",
   "metadata": {},
   "source": [
    "#### Question 13. Mapping two lists to a dictionary: (10 bonus points)\n",
    "keys = [\"a\", \"b\", \"c\"]\n",
    "\n",
    "values = [1, 2, 3]"
   ]
  },
  {
   "cell_type": "code",
   "execution_count": null,
   "metadata": {},
   "outputs": [],
   "source": [
    "# Solution:\n",
    "keys = [\"a\", \"b\", \"c\"]\n",
    "values = [1, 2, 3]\n",
    "new_dict = dict(zip(keys, values))\n",
    "print(new_dict)"
   ]
  },
  {
   "cell_type": "code",
   "execution_count": null,
   "metadata": {},
   "outputs": [],
   "source": [
    "# Solution:\n",
    "keys = [\"a\", \"b\", \"c\"]\n",
    "values = [1, 2, 3]\n",
    "\n",
    "dictionary = {}\n",
    "for i in range(len(keys)):\n",
    "    dictionary[keys[i]]=values[i]\n",
    "dictionary"
   ]
  },
  {
   "cell_type": "code",
   "execution_count": 14,
   "metadata": {},
   "outputs": [
    {
     "name": "stdout",
     "output_type": "stream",
     "text": [
      "{'a': 1, 'b': 2, 'c': 3}\n"
     ]
    }
   ],
   "source": [
    "# Solution:\n",
    "keys = [\"a\", \"b\", \"c\"]\n",
    "values = [1, 2, 3]\n",
    "res = {} \n",
    "for key in keys: \n",
    "    for value in values: \n",
    "        res[key] = value \n",
    "        values.remove(value) \n",
    "        break  \n",
    "print (res)"
   ]
  },
  {
   "cell_type": "markdown",
   "metadata": {},
   "source": [
    "#### Question 14. Use the combination of an `if` statement with a `for` loop that searches for prime numbers from 10 through 20 and print the prime numbers. (Hint: check divisible by 2, by 3, etc.) (10 bonus points) "
   ]
  },
  {
   "cell_type": "code",
   "execution_count": 1,
   "metadata": {},
   "outputs": [
    {
     "name": "stdout",
     "output_type": "stream",
     "text": [
      "11\n",
      "13\n",
      "17\n",
      "19\n"
     ]
    }
   ],
   "source": [
    "# Solution:\n",
    "for i in range(10,20):\n",
    "    for x in range(2,i):\n",
    "        if (i % x) == 0:\n",
    "            break\n",
    "    else:\n",
    "        print(i)    "
   ]
  },
  {
   "cell_type": "code",
   "execution_count": 2,
   "metadata": {},
   "outputs": [
    {
     "name": "stdout",
     "output_type": "stream",
     "text": [
      "11\n",
      "13\n",
      "17\n",
      "19\n"
     ]
    }
   ],
   "source": [
    "# Solution:\n",
    "for i in range(10, 20):\n",
    "    if i % 2 != 0:\n",
    "        if i % 3 != 0:\n",
    "            print (i)"
   ]
  },
  {
   "cell_type": "code",
   "execution_count": 3,
   "metadata": {},
   "outputs": [
    {
     "name": "stdout",
     "output_type": "stream",
     "text": [
      "10 is not a prime number\n",
      "2 times 5 is 10\n",
      "11 is a prime number\n",
      "12 is not a prime number\n",
      "2 times 6 is 12\n",
      "13 is a prime number\n",
      "14 is not a prime number\n",
      "2 times 7 is 14\n",
      "15 is not a prime number\n",
      "3 times 5 is 15\n",
      "16 is not a prime number\n",
      "2 times 8 is 16\n",
      "17 is a prime number\n",
      "18 is not a prime number\n",
      "2 times 9 is 18\n",
      "19 is a prime number\n",
      "20 is not a prime number\n",
      "2 times 10 is 20\n"
     ]
    }
   ],
   "source": [
    "# Solution:\n",
    "for num in range(10,21):\n",
    "    if num > 1:  \n",
    "        for i in range(2,num):  \n",
    "            if (num % i) == 0:  \n",
    "                print(num,\"is not a prime number\")  \n",
    "                print(i,\"times\",num//i,\"is\",num)  \n",
    "                break  \n",
    "        else:  \n",
    "            print(num,\"is a prime number\")  \n",
    "    else:  \n",
    "        print(num,\"is not a prime number\") "
   ]
  },
  {
   "cell_type": "code",
   "execution_count": 4,
   "metadata": {},
   "outputs": [
    {
     "name": "stdout",
     "output_type": "stream",
     "text": [
      "11\n",
      "13\n",
      "17\n",
      "19\n"
     ]
    }
   ],
   "source": [
    "# Solution:\n",
    "for i in range(10,20):\n",
    "    if i%2 != 0 and i%3 != 0 and i%5 != 0 and i%7 != 0:\n",
    "         print(i)"
   ]
  },
  {
   "cell_type": "code",
   "execution_count": 6,
   "metadata": {
    "scrolled": true
   },
   "outputs": [
    {
     "name": "stdout",
     "output_type": "stream",
     "text": [
      "11\n",
      "13\n",
      "17\n",
      "19\n"
     ]
    }
   ],
   "source": [
    "# Solution:\n",
    "for i in range(10,20):\n",
    "    if (i%2 != 0) & (i%3 != 0) & (i%5 != 0) & (i%7 != 0):\n",
    "         print(i)"
   ]
  },
  {
   "cell_type": "code",
   "execution_count": 17,
   "metadata": {
    "scrolled": true
   },
   "outputs": [
    {
     "name": "stdout",
     "output_type": "stream",
     "text": [
      "10  is not a prime number\n",
      "11  is a prime number\n",
      "12  is not a prime number\n",
      "13  is a prime number\n",
      "14  is not a prime number\n",
      "15  is not a prime number\n",
      "16  is not a prime number\n",
      "17  is a prime number\n",
      "18  is not a prime number\n",
      "19  is a prime number\n",
      "20  is not a prime number\n"
     ]
    }
   ],
   "source": [
    "# Solution:\n",
    "for x in range(10,21):\n",
    "    if x%2==0:\n",
    "        print(x, \" is not a prime number\")\n",
    "    elif x%3==0:\n",
    "        print(x, \" is not a prime number\")\n",
    "    elif x%5==0:\n",
    "        print(x, \" is not a prime number\")\n",
    "    elif x%7==0:\n",
    "        print(x, \" is not a prime number\")\n",
    "    else: \n",
    "        print(x, \" is a prime number\")"
   ]
  },
  {
   "cell_type": "code",
   "execution_count": 18,
   "metadata": {},
   "outputs": [
    {
     "name": "stdout",
     "output_type": "stream",
     "text": [
      "11\n",
      "13\n",
      "17\n",
      "19\n"
     ]
    }
   ],
   "source": [
    "# Solution:\n",
    "#primes=[]\n",
    "non_primes=[]\n",
    "for i in range(10,20):\n",
    "    if i % 2 == 0:\n",
    "        non_primes.append(i)\n",
    "    elif i % 3 == 0:\n",
    "        non_primes.append(i)\n",
    "    else:\n",
    "        print(i)"
   ]
  },
  {
   "cell_type": "code",
   "execution_count": 19,
   "metadata": {},
   "outputs": [
    {
     "name": "stdout",
     "output_type": "stream",
     "text": [
      "11 13 17 19 "
     ]
    }
   ],
   "source": [
    "# Solution:\n",
    "for i in range(10,20):\n",
    "    flag = 1\n",
    "    for j in range(2, i//2+1):\n",
    "        if (i%j == 0):\n",
    "            flag = 0\n",
    "            break\n",
    "    if (flag == 1):\n",
    "        print(i, end=\" \")"
   ]
  },
  {
   "cell_type": "code",
   "execution_count": 20,
   "metadata": {},
   "outputs": [
    {
     "name": "stdout",
     "output_type": "stream",
     "text": [
      "[11, 13, 17, 19]\n"
     ]
    }
   ],
   "source": [
    "# Solution:\n",
    "nums = range(10,20)\n",
    "primes = []\n",
    "for x in nums:\n",
    "    prime = True\n",
    "    check_range = range(2,round(x/2))\n",
    "    for i in check_range:\n",
    "        if x % i ==  0:\n",
    "            prime = False\n",
    "    if prime == True:\n",
    "        primes.append(x)\n",
    "        \n",
    "print(primes)    "
   ]
  },
  {
   "cell_type": "code",
   "execution_count": 22,
   "metadata": {},
   "outputs": [
    {
     "name": "stdout",
     "output_type": "stream",
     "text": [
      "11 is a prime number\n",
      "13 is a prime number\n",
      "17 is a prime number\n",
      "19 is a prime number\n"
     ]
    }
   ],
   "source": [
    "# Solution:\n",
    "\n",
    "for i in range(10, 21):\n",
    "    \n",
    "    count = 0\n",
    "    \n",
    "    for j in range(2, 10):\n",
    "        \n",
    "        if i % j == 0:\n",
    "            \n",
    "            count += 1\n",
    "        \n",
    "    if count == 0:\n",
    "        \n",
    "        print('{} is a prime number'.format(i))"
   ]
  },
  {
   "cell_type": "markdown",
   "metadata": {},
   "source": [
    "#### Note: Some Solutions from Our Past or Current Students - Thank You All!"
   ]
  },
  {
   "cell_type": "code",
   "execution_count": null,
   "metadata": {},
   "outputs": [],
   "source": []
  }
 ],
 "metadata": {
  "kernelspec": {
   "display_name": "Python 3 (ipykernel)",
   "language": "python",
   "name": "python3"
  },
  "language_info": {
   "codemirror_mode": {
    "name": "ipython",
    "version": 3
   },
   "file_extension": ".py",
   "mimetype": "text/x-python",
   "name": "python",
   "nbconvert_exporter": "python",
   "pygments_lexer": "ipython3",
   "version": "3.9.7"
  }
 },
 "nbformat": 4,
 "nbformat_minor": 2
}
