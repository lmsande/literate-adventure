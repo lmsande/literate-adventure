{
 "cells": [
  {
   "cell_type": "markdown",
   "metadata": {},
   "source": [
    "# Python Basics for Data Science \n",
    "### IntroPython2.1 Python Basics-Operators  \n",
    "### IntroPython2.2 Python Basics-Variables and Data Types\n",
    "### IntroPython2.3 Python Basics-Data Structures\n",
    "### IntroPython2.4 Python Basics-Functions and Methods\n",
    "### IntroPython2.5 Python Basics-Create Our Own Function and Lambda\n",
    "### IntroPython2.6 Python Basics-If Statement\n",
    "### IntroPython2.7 Python Basics-Loops\n",
    "### IntroPython2.8 Python Basics-Python Syntax Essentials and Best Practice\n",
    "### IntroPython2.9 Python Basics-Import Statement and Important Built-in Modules\n",
    "***"
   ]
  },
  {
   "cell_type": "markdown",
   "metadata": {},
   "source": [
    "### Modules are divided into three groups:\n",
    "\n",
    "1. `The modules of the Python Standard Library`: You can get these really easily because they come with Python3 by default. You simply have to type import and the name of the module – and from that point on you can use the given module in your code.\n",
    "\n",
    "2. `More advanced and more specialized modules`:There are modules that are not part of the standard library. For these, you have to install new packages to your data server first. You will see that for data science we are using many of these “external” packages. (The ones you might have heard about are pandas, numpy, matplotlib, scikit-learn, etc.)\n",
    "\n",
    "3. `Your own modules`: Yes, you can write new modules by yourself, too! (We’ll not cover this)\n",
    "\n",
    "#### Anyway, import is a really powerful concept in Python – because with that you’ll be able to expand your toolset continuously and almost infinitely when you are dealing with different data science challenges."
   ]
  },
  {
   "cell_type": "markdown",
   "metadata": {},
   "source": [
    "## The most important Python Built-in Modules for Data Scientists\n",
    "\n",
    "Okay, now that you get the concept, it’s time to see it in practice. As I have mentioned, there is a Python Standard Library with dozens of built-in modules. From those, I have picked the five most important modules for data analysts and scientists and let’s see the five built-in modules one by one. These are:\n",
    "\n",
    "- random\n",
    "- statistics\n",
    "- math\n",
    "- datetime\n",
    "- csv\n",
    "\n",
    "You can easily import any of them by using this syntax:\n",
    "\n",
    "`import` [module_name]\n",
    "\n",
    "eg. import random\n",
    "\n",
    "Note: This will import the entire module with all items in it. You can import only a part of the module, too: \n",
    "\n",
    "`from` [module_name] `import` [item_name]. But let’s not complicate things with that yet."
   ]
  },
  {
   "cell_type": "markdown",
   "metadata": {},
   "source": [
    "### Python Built-in Module #1: `random`\n",
    "Randomization is very important in data science. If you import the random module, you can generate random numbers by various rules."
   ]
  },
  {
   "cell_type": "code",
   "execution_count": 1,
   "metadata": {},
   "outputs": [],
   "source": [
    "# Let’s type this to your Jupyter Notebook first:\n",
    "import random"
   ]
  },
  {
   "cell_type": "code",
   "execution_count": 2,
   "metadata": {},
   "outputs": [
    {
     "data": {
      "text/plain": [
       "0.8067178448670768"
      ]
     },
     "execution_count": 2,
     "metadata": {},
     "output_type": "execute_result"
    }
   ],
   "source": [
    "# Then in a separate cell try out:\n",
    "random.random()   # This will generate a random float between 0 and 1."
   ]
  },
  {
   "cell_type": "code",
   "execution_count": 3,
   "metadata": {},
   "outputs": [
    {
     "data": {
      "text/plain": [
       "5"
      ]
     },
     "execution_count": 3,
     "metadata": {},
     "output_type": "execute_result"
    }
   ],
   "source": [
    "random.randint(1,10)   # This will generate a random integer between 1 and 10."
   ]
  },
  {
   "cell_type": "markdown",
   "metadata": {},
   "source": [
    "### Python Built-in Module #2: `statistics`\n",
    "There is a statistics built-in module which contains functions like: mean, median, mode, standard deviation, variance and more."
   ]
  },
  {
   "cell_type": "code",
   "execution_count": 4,
   "metadata": {},
   "outputs": [],
   "source": [
    "# Let’s try few of these:\n",
    "import statistics"
   ]
  },
  {
   "cell_type": "code",
   "execution_count": 5,
   "metadata": {},
   "outputs": [],
   "source": [
    "# Create a sample list:\n",
    "a = [0, 1, 1, 3, 4, 9, 15]"
   ]
  },
  {
   "cell_type": "code",
   "execution_count": 6,
   "metadata": {},
   "outputs": [
    {
     "data": {
      "text/plain": [
       "4.714285714285714"
      ]
     },
     "execution_count": 6,
     "metadata": {},
     "output_type": "execute_result"
    }
   ],
   "source": [
    "statistics.mean(a)"
   ]
  },
  {
   "cell_type": "code",
   "execution_count": 7,
   "metadata": {},
   "outputs": [
    {
     "data": {
      "text/plain": [
       "3"
      ]
     },
     "execution_count": 7,
     "metadata": {},
     "output_type": "execute_result"
    }
   ],
   "source": [
    "statistics.median(a)"
   ]
  },
  {
   "cell_type": "code",
   "execution_count": 8,
   "metadata": {},
   "outputs": [
    {
     "data": {
      "text/plain": [
       "1"
      ]
     },
     "execution_count": 8,
     "metadata": {},
     "output_type": "execute_result"
    }
   ],
   "source": [
    "statistics.mode(a)"
   ]
  },
  {
   "cell_type": "code",
   "execution_count": 9,
   "metadata": {},
   "outputs": [
    {
     "data": {
      "text/plain": [
       "5.437961803049794"
      ]
     },
     "execution_count": 9,
     "metadata": {},
     "output_type": "execute_result"
    }
   ],
   "source": [
    "statistics.stdev(a)"
   ]
  },
  {
   "cell_type": "code",
   "execution_count": 10,
   "metadata": {},
   "outputs": [
    {
     "data": {
      "text/plain": [
       "29.571428571428566"
      ]
     },
     "execution_count": 10,
     "metadata": {},
     "output_type": "execute_result"
    }
   ],
   "source": [
    "statistics.variance(a)"
   ]
  },
  {
   "cell_type": "markdown",
   "metadata": {},
   "source": [
    "### Python Built-in Module #3: `math`\n",
    "There are a few functions that are under the umbrella of math rather than statistics. So there is a separate module for that. This contains factorial, power, and logarithmic functions, but also some trigonometry and constants."
   ]
  },
  {
   "cell_type": "code",
   "execution_count": 11,
   "metadata": {},
   "outputs": [],
   "source": [
    "import math"
   ]
  },
  {
   "cell_type": "code",
   "execution_count": 12,
   "metadata": {},
   "outputs": [
    {
     "data": {
      "text/plain": [
       "120"
      ]
     },
     "execution_count": 12,
     "metadata": {},
     "output_type": "execute_result"
    }
   ],
   "source": [
    "math.factorial(5)"
   ]
  },
  {
   "cell_type": "code",
   "execution_count": 13,
   "metadata": {},
   "outputs": [
    {
     "data": {
      "text/plain": [
       "3.141592653589793"
      ]
     },
     "execution_count": 13,
     "metadata": {},
     "output_type": "execute_result"
    }
   ],
   "source": [
    "math.pi"
   ]
  },
  {
   "cell_type": "code",
   "execution_count": 14,
   "metadata": {},
   "outputs": [
    {
     "data": {
      "text/plain": [
       "2.23606797749979"
      ]
     },
     "execution_count": 14,
     "metadata": {},
     "output_type": "execute_result"
    }
   ],
   "source": [
    "math.sqrt(5)"
   ]
  },
  {
   "cell_type": "code",
   "execution_count": 15,
   "metadata": {},
   "outputs": [
    {
     "data": {
      "text/plain": [
       "8.0"
      ]
     },
     "execution_count": 15,
     "metadata": {},
     "output_type": "execute_result"
    }
   ],
   "source": [
    "math.log(256, 2)"
   ]
  },
  {
   "cell_type": "markdown",
   "metadata": {},
   "source": [
    "### Python Built-in Module #4: `datetime`\n",
    "Do you plan to work for an online startup? Then you will probably encounter lot of data logs. And the heart of a data log is the datetime. Python3, by default, does not handle dates and times, but if you import the datetime module, you will get access to these functions, too."
   ]
  },
  {
   "cell_type": "code",
   "execution_count": 16,
   "metadata": {},
   "outputs": [],
   "source": [
    "import datetime"
   ]
  },
  {
   "cell_type": "markdown",
   "metadata": {},
   "source": [
    "#### I think the implementation of the datetime module of Python is a bit over-complicated… at least, it’s not easy to use for beginners. For now let’s try these two functions to get a bit more familiar with it:"
   ]
  },
  {
   "cell_type": "code",
   "execution_count": 17,
   "metadata": {},
   "outputs": [
    {
     "data": {
      "text/plain": [
       "datetime.datetime(2020, 11, 16, 20, 18, 47, 309572)"
      ]
     },
     "execution_count": 17,
     "metadata": {},
     "output_type": "execute_result"
    }
   ],
   "source": [
    "datetime.datetime.now()"
   ]
  },
  {
   "cell_type": "code",
   "execution_count": 18,
   "metadata": {},
   "outputs": [
    {
     "data": {
      "text/plain": [
       "'2020-11-16'"
      ]
     },
     "execution_count": 18,
     "metadata": {},
     "output_type": "execute_result"
    }
   ],
   "source": [
    "datetime.datetime.now().strftime(\"%F\")"
   ]
  },
  {
   "cell_type": "markdown",
   "metadata": {},
   "source": [
    "### Python Built-in Module #5: `csv`\n",
    "“csv” stands for “comma-separated values” and it’s one of the most common file formats for plain text data logs. So you definitely have to know how to open a .csv file in Python. There is a certain way to do that – just follow this example.\n",
    "\n",
    "Let’s say you have this small .csv file.\n"
   ]
  },
  {
   "cell_type": "code",
   "execution_count": 19,
   "metadata": {},
   "outputs": [
    {
     "data": {
      "text/plain": [
       "'C:\\\\Users\\\\chris\\\\PythonProgramming'"
      ]
     },
     "execution_count": 19,
     "metadata": {},
     "output_type": "execute_result"
    }
   ],
   "source": [
    "%pwd"
   ]
  },
  {
   "cell_type": "code",
   "execution_count": 20,
   "metadata": {},
   "outputs": [],
   "source": [
    "import os\n",
    "os.chdir('C:\\\\Users\\\\chris\\\\PythonProgramming\\\\Data')"
   ]
  },
  {
   "cell_type": "code",
   "execution_count": 21,
   "metadata": {},
   "outputs": [
    {
     "name": "stdout",
     "output_type": "stream",
     "text": [
      "['AgeGroup,VehicleUse,ClaimSeverity,ClaimCount']\n",
      "['17', 'to', '20,Pleasure,250.48,21']\n",
      "['17', 'to', '20,DriveShort,274.78,40']\n",
      "['17', 'to', '20,DriveLong,244.52,23']\n",
      "['17', 'to', '20,Business,797.8,5']\n",
      "['21', 'to', '24,Pleasure,213.71,63']\n",
      "['21', 'to', '24,DriveShort,298.6,171']\n",
      "['21', 'to', '24,DriveLong,298.13,92']\n",
      "['21', 'to', '24,Business,362.23,44']\n",
      "['25', 'to', '29,Pleasure,250.57,140']\n",
      "['25', 'to', '29,DriveShort,248.56,343']\n",
      "['25', 'to', '29,DriveLong,297.9,318']\n",
      "['25', 'to', '29,Business,342.31,129']\n",
      "['30', 'to', '34,Pleasure,229.09,123']\n",
      "['30', 'to', '34,DriveShort,228.48,448']\n",
      "['30', 'to', '34,DriveLong,293.87,361']\n",
      "['30', 'to', '34,Business,367.46,169']\n",
      "['35', 'to', '39,Pleasure,153.62,151']\n",
      "['35', 'to', '39,DriveShort,201.67,479']\n",
      "['35', 'to', '39,DriveLong,238.21,381']\n",
      "['35', 'to', '39,Business,256.21,166']\n",
      "['40', 'to', '49,Pleasure,208.59,245']\n",
      "['40', 'to', '49,DriveShort,202.8,970']\n",
      "['40', 'to', '49,DriveLong,236.06,719']\n",
      "['40', 'to', '49,Business,352.49,304']\n",
      "['50', 'to', '59,Pleasure,207.57,266']\n",
      "['50', 'to', '59,DriveShort,202.67,859']\n",
      "['50', 'to', '59,DriveLong,253.63,504']\n",
      "['50', 'to', '59,Business,340.56,162']\n",
      "['60', 'or', 'more,Pleasure,192,260']\n",
      "['61', 'or', 'more,DriveShort,196.33,578']\n",
      "['62', 'or', 'more,DriveLong,259.79,312']\n",
      "['63', 'or', 'more,Business,342.58,96']\n"
     ]
    }
   ],
   "source": [
    "import csv\n",
    "\n",
    "with open('AutoCollision.csv') as csvfile:\n",
    "    my_csv_file = csv.reader(csvfile, delimiter=' ')\n",
    "    for row in my_csv_file:\n",
    "        print(row)"
   ]
  },
  {
   "cell_type": "markdown",
   "metadata": {},
   "source": [
    "### More built-in modules\n",
    "This is a good start but far from the whole list of the Python built-in modules. With other modules you can zip and unzip files, scrape websites, send emails, and do a lot of other exciting things. If you want to take a look at the whole list, check out the Python Standard Library (https://docs.python.org/3/library/) which is part of the original Python documentation.\n",
    "And, as I mentioned, there are other Python libraries and packages that are not part of the standard library (like pandas, numpy, scipy, etc.) – I’ll write more about them soon!"
   ]
  },
  {
   "cell_type": "markdown",
   "metadata": {},
   "source": [
    "### Syntax\n",
    "\n",
    "Now that you have seen how import works, let’s talk briefly about the syntax!\n",
    "\n",
    "#### Three things:\n",
    "\n",
    "1. Usually, in Python scripts, we put all the import statements at the beginning of our script. Why is that? To see what modules our script relies on. Also, to make sure that the modules will be imported before we need to apply them. So keep this advice in mind: **python import statement and built-in modules - import at the beginning of the script**\n",
    "\n",
    "2. In this lecture note, we applied the functions of the modules using this syntax: `module_name.function_name`(parameters)\n",
    "\n",
    "```markdown\n",
    "Eg. statistics.median(a)\n",
    "\n",
    "or, csv.reader(csvfile, delimiter=';'). This is logical: before you apply a given function, you have to tell Python in which module to find it.\n",
    "```\n",
    "\n",
    "In some cases there are even more complicated relationships – like functions of classes in a module (eg. `datetime.datetime.now`()) but let’s not confuse yourself with that for now. \n",
    "\n",
    "My suggestion is to make a list of your favorite modules and functions and learn how they work; if you need a new one, check out the original Python documentation and add the new module plus its function to your list.\n",
    "\n",
    "3. When you import a module (or a package) you can rename it using the as keyword:\n",
    "If you type:\n",
    "\n",
    "```markdown\n",
    "import statistics as stat\n",
    "```\n",
    "\n",
    "You have to refer to your module as `stat`. Eg. `stat.median`(a) and not as statistics.median(a). Conventionally, we are using two very well-known data science related Python libraries imported with their shortened name: \n",
    "\n",
    "`numpy` (import numpy as np) and `pandas` (import pandas as pd)."
   ]
  },
  {
   "cell_type": "markdown",
   "metadata": {},
   "source": [
    "Here is a summary of terms:\n",
    "\n",
    "- **Function**: it’s a block of code that you can (re-)use by calling it with a keyword. \n",
    "\n",
    "Eg. print() is a function.\n",
    "\n",
    "- **Module**: it’s a `.py` file that contains a list of functions (it can also contain variables and classes). \n",
    "\n",
    "Eg. in statistics.mean(a), mean is a function that is found in the statistics module.\n",
    "\n",
    "- **Package**: it’s a collection of Python modules. \n",
    "\n",
    "Eg. numpy.random.randint(2, size=10) randint() is a function in the random module of the numpy package.\n",
    "\n",
    "- **Library**: it’s a more general term for a collection of Python codes."
   ]
  },
  {
   "cell_type": "markdown",
   "metadata": {},
   "source": [
    "#### Note: The course materials are developed mainly based on personal experience and contributions from the Python learning community\n",
    "Referred book: Learning Python, 5ht Edition by Mark Lutz"
   ]
  },
  {
   "cell_type": "code",
   "execution_count": null,
   "metadata": {},
   "outputs": [],
   "source": []
  },
  {
   "cell_type": "code",
   "execution_count": null,
   "metadata": {},
   "outputs": [],
   "source": []
  }
 ],
 "metadata": {
  "kernelspec": {
   "display_name": "Python 3 (ipykernel)",
   "language": "python",
   "name": "python3"
  },
  "language_info": {
   "codemirror_mode": {
    "name": "ipython",
    "version": 3
   },
   "file_extension": ".py",
   "mimetype": "text/x-python",
   "name": "python",
   "nbconvert_exporter": "python",
   "pygments_lexer": "ipython3",
   "version": "3.9.7"
  }
 },
 "nbformat": 4,
 "nbformat_minor": 2
}
